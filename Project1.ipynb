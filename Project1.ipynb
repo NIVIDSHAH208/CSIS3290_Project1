{
 "cells": [
  {
   "cell_type": "code",
   "execution_count": 1,
   "metadata": {
    "id": "nATx5hQCEoF0"
   },
   "outputs": [],
   "source": [
    "#!pip install sklearn\n",
    "import pandas as pd\n",
    "import numpy as np\n",
    "import matplotlib.pyplot as plt\n",
    "import seaborn as sns\n",
    "from sklearn.linear_model import LinearRegression\n",
    "from sklearn.model_selection import train_test_split\n",
    "from sklearn.metrics import mean_squared_error\n",
    "from sklearn.linear_model import Ridge, Lasso\n",
    "from sklearn.preprocessing import StandardScaler, MinMaxScaler, RobustScaler\n",
    "\n",
    "%matplotlib inline"
   ]
  },
  {
   "cell_type": "code",
   "execution_count": 2,
   "metadata": {
    "id": "ayvCpy6fGRTY"
   },
   "outputs": [],
   "source": [
    "df = pd.read_csv('unclean_data.csv')  "
   ]
  },
  {
   "cell_type": "code",
   "execution_count": 3,
   "metadata": {
    "id": "onzxTNWgGkKu"
   },
   "outputs": [],
   "source": [
    "df_backup = df"
   ]
  },
  {
   "cell_type": "markdown",
   "metadata": {
    "id": "yyCGP5f9HJCz"
   },
   "source": [
    "Removing rows with All Nulls"
   ]
  },
  {
   "cell_type": "code",
   "execution_count": 4,
   "metadata": {
    "id": "NVD5L4OOGk7G"
   },
   "outputs": [],
   "source": [
    "df.dropna(how='all',inplace=True)"
   ]
  },
  {
   "cell_type": "markdown",
   "metadata": {
    "id": "8vTx2S54HVTV"
   },
   "source": [
    "Reseting Index"
   ]
  },
  {
   "cell_type": "code",
   "execution_count": 5,
   "metadata": {
    "id": "C0KcE8_MHG5P"
   },
   "outputs": [],
   "source": [
    "df = df.reset_index(drop=True)"
   ]
  },
  {
   "cell_type": "markdown",
   "metadata": {
    "id": "1yEAcuXdIESe"
   },
   "source": [
    "Removing '£' and comma in price column values"
   ]
  },
  {
   "cell_type": "code",
   "execution_count": 6,
   "metadata": {
    "id": "JT1hMeKIHrt2"
   },
   "outputs": [],
   "source": [
    "df['price'] = df['price'].apply(lambda x: x.replace('£','')).apply(lambda x: x.replace(',',''))"
   ]
  },
  {
   "cell_type": "markdown",
   "metadata": {
    "id": "mvzfj37II0KG"
   },
   "source": [
    "Renaming the following columns: “fuel type”, “fuel type2”, “engine size”, and “engine size2” into “fuel_type”, “fuel_type2”, “engine_size” and “engine_size2” respectively"
   ]
  },
  {
   "cell_type": "code",
   "execution_count": 7,
   "metadata": {},
   "outputs": [
    {
     "data": {
      "text/html": [
       "<div>\n",
       "<style scoped>\n",
       "    .dataframe tbody tr th:only-of-type {\n",
       "        vertical-align: middle;\n",
       "    }\n",
       "\n",
       "    .dataframe tbody tr th {\n",
       "        vertical-align: top;\n",
       "    }\n",
       "\n",
       "    .dataframe thead th {\n",
       "        text-align: right;\n",
       "    }\n",
       "</style>\n",
       "<table border=\"1\" class=\"dataframe\">\n",
       "  <thead>\n",
       "    <tr style=\"text-align: right;\">\n",
       "      <th></th>\n",
       "      <th>model</th>\n",
       "      <th>year</th>\n",
       "      <th>price</th>\n",
       "      <th>transmission</th>\n",
       "      <th>mileage</th>\n",
       "      <th>fuel type</th>\n",
       "      <th>engine size</th>\n",
       "      <th>mileage2</th>\n",
       "      <th>fuel type2</th>\n",
       "      <th>engine size2</th>\n",
       "      <th>reference</th>\n",
       "    </tr>\n",
       "  </thead>\n",
       "  <tbody>\n",
       "    <tr>\n",
       "      <th>0</th>\n",
       "      <td>C Class</td>\n",
       "      <td>2020.0</td>\n",
       "      <td>30495</td>\n",
       "      <td>Automatic</td>\n",
       "      <td>NaN</td>\n",
       "      <td>Diesel</td>\n",
       "      <td>2</td>\n",
       "      <td>1,200</td>\n",
       "      <td>NaN</td>\n",
       "      <td>NaN</td>\n",
       "      <td>/ad/25017331</td>\n",
       "    </tr>\n",
       "    <tr>\n",
       "      <th>1</th>\n",
       "      <td>C Class</td>\n",
       "      <td>2020.0</td>\n",
       "      <td>29989</td>\n",
       "      <td>Automatic</td>\n",
       "      <td>NaN</td>\n",
       "      <td>Petrol</td>\n",
       "      <td>1.5</td>\n",
       "      <td>1,000</td>\n",
       "      <td>NaN</td>\n",
       "      <td>NaN</td>\n",
       "      <td>/ad/25043746</td>\n",
       "    </tr>\n",
       "    <tr>\n",
       "      <th>2</th>\n",
       "      <td>C Class</td>\n",
       "      <td>2020.0</td>\n",
       "      <td>37899</td>\n",
       "      <td>Automatic</td>\n",
       "      <td>NaN</td>\n",
       "      <td>Diesel</td>\n",
       "      <td>2</td>\n",
       "      <td>500</td>\n",
       "      <td>NaN</td>\n",
       "      <td>NaN</td>\n",
       "      <td>/ad/25142894</td>\n",
       "    </tr>\n",
       "    <tr>\n",
       "      <th>3</th>\n",
       "      <td>C Class</td>\n",
       "      <td>2019.0</td>\n",
       "      <td>30399</td>\n",
       "      <td>Automatic</td>\n",
       "      <td>NaN</td>\n",
       "      <td>Diesel</td>\n",
       "      <td>2</td>\n",
       "      <td>5,000</td>\n",
       "      <td>NaN</td>\n",
       "      <td>NaN</td>\n",
       "      <td>/ad/24942816</td>\n",
       "    </tr>\n",
       "    <tr>\n",
       "      <th>4</th>\n",
       "      <td>C Class</td>\n",
       "      <td>2019.0</td>\n",
       "      <td>29899</td>\n",
       "      <td>Automatic</td>\n",
       "      <td>NaN</td>\n",
       "      <td>Diesel</td>\n",
       "      <td>2</td>\n",
       "      <td>4,500</td>\n",
       "      <td>NaN</td>\n",
       "      <td>NaN</td>\n",
       "      <td>/ad/24913660</td>\n",
       "    </tr>\n",
       "    <tr>\n",
       "      <th>...</th>\n",
       "      <td>...</td>\n",
       "      <td>...</td>\n",
       "      <td>...</td>\n",
       "      <td>...</td>\n",
       "      <td>...</td>\n",
       "      <td>...</td>\n",
       "      <td>...</td>\n",
       "      <td>...</td>\n",
       "      <td>...</td>\n",
       "      <td>...</td>\n",
       "      <td>...</td>\n",
       "    </tr>\n",
       "    <tr>\n",
       "      <th>3902</th>\n",
       "      <td>C Class</td>\n",
       "      <td>2017.0</td>\n",
       "      <td>14700</td>\n",
       "      <td>Manual</td>\n",
       "      <td>31,357</td>\n",
       "      <td>25</td>\n",
       "      <td>£150</td>\n",
       "      <td>70.6</td>\n",
       "      <td>Diesel</td>\n",
       "      <td>1.598</td>\n",
       "      <td>/ad/25451436</td>\n",
       "    </tr>\n",
       "    <tr>\n",
       "      <th>3903</th>\n",
       "      <td>C Class</td>\n",
       "      <td>2018.0</td>\n",
       "      <td>18500</td>\n",
       "      <td>Automatic</td>\n",
       "      <td>28,248</td>\n",
       "      <td>31</td>\n",
       "      <td>£150</td>\n",
       "      <td>64.2</td>\n",
       "      <td>Diesel</td>\n",
       "      <td>2.143</td>\n",
       "      <td>/ad/25451481</td>\n",
       "    </tr>\n",
       "    <tr>\n",
       "      <th>3904</th>\n",
       "      <td>C Class</td>\n",
       "      <td>2014.0</td>\n",
       "      <td>11900</td>\n",
       "      <td>Manual</td>\n",
       "      <td>48,055</td>\n",
       "      <td>31</td>\n",
       "      <td>£20</td>\n",
       "      <td>65.7</td>\n",
       "      <td>Diesel</td>\n",
       "      <td>2.143</td>\n",
       "      <td>/ad/25057204</td>\n",
       "    </tr>\n",
       "    <tr>\n",
       "      <th>3905</th>\n",
       "      <td>C Class</td>\n",
       "      <td>2014.0</td>\n",
       "      <td>11300</td>\n",
       "      <td>Automatic</td>\n",
       "      <td>49,865</td>\n",
       "      <td>46</td>\n",
       "      <td>£145</td>\n",
       "      <td>56.5</td>\n",
       "      <td>Diesel</td>\n",
       "      <td>2.143</td>\n",
       "      <td>/ad/25144481</td>\n",
       "    </tr>\n",
       "    <tr>\n",
       "      <th>3906</th>\n",
       "      <td>C Class</td>\n",
       "      <td>2014.0</td>\n",
       "      <td>14800</td>\n",
       "      <td>Automatic</td>\n",
       "      <td>55,445</td>\n",
       "      <td>37</td>\n",
       "      <td>£30</td>\n",
       "      <td>64.2</td>\n",
       "      <td>Diesel</td>\n",
       "      <td>2.143</td>\n",
       "      <td>/ad/25154247</td>\n",
       "    </tr>\n",
       "  </tbody>\n",
       "</table>\n",
       "<p>3907 rows × 11 columns</p>\n",
       "</div>"
      ],
      "text/plain": [
       "         model    year   price transmission mileage fuel type engine size  \\\n",
       "0      C Class  2020.0   30495    Automatic     NaN    Diesel           2   \n",
       "1      C Class  2020.0   29989    Automatic     NaN    Petrol         1.5   \n",
       "2      C Class  2020.0   37899    Automatic     NaN    Diesel           2   \n",
       "3      C Class  2019.0   30399    Automatic     NaN    Diesel           2   \n",
       "4      C Class  2019.0   29899    Automatic     NaN    Diesel           2   \n",
       "...        ...     ...     ...          ...     ...       ...         ...   \n",
       "3902   C Class  2017.0   14700       Manual  31,357        25        £150   \n",
       "3903   C Class  2018.0   18500    Automatic  28,248        31        £150   \n",
       "3904   C Class  2014.0   11900       Manual  48,055        31         £20   \n",
       "3905   C Class  2014.0   11300    Automatic  49,865        46        £145   \n",
       "3906   C Class  2014.0   14800    Automatic  55,445        37         £30   \n",
       "\n",
       "     mileage2 fuel type2 engine size2     reference  \n",
       "0       1,200        NaN          NaN  /ad/25017331  \n",
       "1       1,000        NaN          NaN  /ad/25043746  \n",
       "2         500        NaN          NaN  /ad/25142894  \n",
       "3       5,000        NaN          NaN  /ad/24942816  \n",
       "4       4,500        NaN          NaN  /ad/24913660  \n",
       "...       ...        ...          ...           ...  \n",
       "3902     70.6     Diesel        1.598  /ad/25451436  \n",
       "3903     64.2     Diesel        2.143  /ad/25451481  \n",
       "3904     65.7     Diesel        2.143  /ad/25057204  \n",
       "3905     56.5     Diesel        2.143  /ad/25144481  \n",
       "3906     64.2     Diesel        2.143  /ad/25154247  \n",
       "\n",
       "[3907 rows x 11 columns]"
      ]
     },
     "execution_count": 7,
     "metadata": {},
     "output_type": "execute_result"
    }
   ],
   "source": [
    "df"
   ]
  },
  {
   "cell_type": "code",
   "execution_count": 8,
   "metadata": {
    "id": "LyZzp76DHv2f"
   },
   "outputs": [],
   "source": [
    "df.rename(columns={\"engine size\":\"engine_size\",\n",
    "                   \"engine size2\":\"engine_size2\",\n",
    "                   \"fuel type\":\"fuel_type\",\n",
    "                   \"fuel type2\":\"fuel_type2\"}, inplace=True)"
   ]
  },
  {
   "cell_type": "markdown",
   "metadata": {
    "id": "nBw6dAiEJuiL"
   },
   "source": [
    "Filling null values in fuel_type with values in fuel_type"
   ]
  },
  {
   "cell_type": "code",
   "execution_count": 9,
   "metadata": {
    "id": "MYpf9wHxIvN5"
   },
   "outputs": [],
   "source": [
    "df['fuel_type2'] = df['fuel_type2'].fillna(df['fuel_type'])"
   ]
  },
  {
   "cell_type": "markdown",
   "metadata": {
    "id": "4PAkN2HBJ30P"
   },
   "source": [
    "Dropping column 'fuel_type'"
   ]
  },
  {
   "cell_type": "code",
   "execution_count": 10,
   "metadata": {
    "id": "TnqM-CN7I7e6"
   },
   "outputs": [],
   "source": [
    "df.drop(columns=['fuel_type'],inplace=True)"
   ]
  },
  {
   "cell_type": "markdown",
   "metadata": {
    "id": "3pPVRIbe1n2P"
   },
   "source": [
    "Renaming 'fuel_type2' to 'fuel_type'"
   ]
  },
  {
   "cell_type": "code",
   "execution_count": 11,
   "metadata": {
    "id": "VxV7-6ah1P1y"
   },
   "outputs": [],
   "source": [
    "df.rename(columns={\"fuel_type2\":\"fuel_type\",}, inplace=True)"
   ]
  },
  {
   "cell_type": "markdown",
   "metadata": {
    "id": "2dVEYTf2KkGu"
   },
   "source": [
    "Filling null values in mileage with values in mileage2"
   ]
  },
  {
   "cell_type": "code",
   "execution_count": 12,
   "metadata": {
    "id": "0ZzRfkThJVmW"
   },
   "outputs": [],
   "source": [
    "df['mileage'] = df['mileage'].fillna(df['mileage2'])"
   ]
  },
  {
   "cell_type": "markdown",
   "metadata": {
    "id": "awglqYL7LbYj"
   },
   "source": [
    "Removing comma in mileage column values"
   ]
  },
  {
   "cell_type": "code",
   "execution_count": 13,
   "metadata": {
    "id": "LaqPDeu7KJOr"
   },
   "outputs": [],
   "source": [
    "df['mileage'] = df['mileage'].apply(lambda x: x.replace(',',''))"
   ]
  },
  {
   "cell_type": "markdown",
   "metadata": {
    "id": "GE_V0ap9aW_i"
   },
   "source": [
    "Making 'mileage' column numeric"
   ]
  },
  {
   "cell_type": "code",
   "execution_count": 14,
   "metadata": {
    "id": "mKEBihc_LGoR"
   },
   "outputs": [],
   "source": [
    "df['mileage'] = pd.to_numeric(df['mileage'],errors='coerce') "
   ]
  },
  {
   "cell_type": "markdown",
   "metadata": {
    "id": "8kW2J82XKoLj"
   },
   "source": [
    "Dropping column 'mileage2'"
   ]
  },
  {
   "cell_type": "code",
   "execution_count": 15,
   "metadata": {
    "id": "tsgqTnwJKpDt"
   },
   "outputs": [],
   "source": [
    "df.drop(columns=['mileage2'],inplace=True)"
   ]
  },
  {
   "cell_type": "markdown",
   "metadata": {},
   "source": [
    "## Removing rows with mileage as null"
   ]
  },
  {
   "cell_type": "code",
   "execution_count": 16,
   "metadata": {},
   "outputs": [],
   "source": [
    "df= df[df['mileage'].notnull()]"
   ]
  },
  {
   "cell_type": "markdown",
   "metadata": {
    "id": "kehq0EOAabVR"
   },
   "source": [
    "Filling null values in engine_size2 with values in engine_size"
   ]
  },
  {
   "cell_type": "code",
   "execution_count": 17,
   "metadata": {
    "id": "s94SHYBCLtFi"
   },
   "outputs": [
    {
     "name": "stderr",
     "output_type": "stream",
     "text": [
      "C:\\Users\\ASUS\\AppData\\Local\\Temp\\ipykernel_21588\\4103250607.py:1: SettingWithCopyWarning: \n",
      "A value is trying to be set on a copy of a slice from a DataFrame.\n",
      "Try using .loc[row_indexer,col_indexer] = value instead\n",
      "\n",
      "See the caveats in the documentation: https://pandas.pydata.org/pandas-docs/stable/user_guide/indexing.html#returning-a-view-versus-a-copy\n",
      "  df['engine_size2'] = df['engine_size2'].fillna(df['engine_size'])\n"
     ]
    }
   ],
   "source": [
    "df['engine_size2'] = df['engine_size2'].fillna(df['engine_size'])"
   ]
  },
  {
   "cell_type": "markdown",
   "metadata": {
    "id": "xS2aGq5aaevV"
   },
   "source": [
    "Making 'engine_size2' column numeric"
   ]
  },
  {
   "cell_type": "code",
   "execution_count": 18,
   "metadata": {
    "id": "-1AbZ0y_N1m1"
   },
   "outputs": [
    {
     "name": "stderr",
     "output_type": "stream",
     "text": [
      "C:\\Users\\ASUS\\AppData\\Local\\Temp\\ipykernel_21588\\2311419383.py:1: SettingWithCopyWarning: \n",
      "A value is trying to be set on a copy of a slice from a DataFrame.\n",
      "Try using .loc[row_indexer,col_indexer] = value instead\n",
      "\n",
      "See the caveats in the documentation: https://pandas.pydata.org/pandas-docs/stable/user_guide/indexing.html#returning-a-view-versus-a-copy\n",
      "  df['engine_size2'] = pd.to_numeric(df['engine_size2'],errors='coerce')\n"
     ]
    }
   ],
   "source": [
    "df['engine_size2'] = pd.to_numeric(df['engine_size2'],errors='coerce')"
   ]
  },
  {
   "cell_type": "markdown",
   "metadata": {
    "id": "yWacfCXCaE_O"
   },
   "source": [
    "Converting cc values into litres"
   ]
  },
  {
   "cell_type": "code",
   "execution_count": 19,
   "metadata": {
    "id": "UuVJ8R35Opa6"
   },
   "outputs": [
    {
     "name": "stderr",
     "output_type": "stream",
     "text": [
      "C:\\Users\\ASUS\\AppData\\Local\\Temp\\ipykernel_21588\\2955282759.py:1: SettingWithCopyWarning: \n",
      "A value is trying to be set on a copy of a slice from a DataFrame.\n",
      "Try using .loc[row_indexer,col_indexer] = value instead\n",
      "\n",
      "See the caveats in the documentation: https://pandas.pydata.org/pandas-docs/stable/user_guide/indexing.html#returning-a-view-versus-a-copy\n",
      "  df['engine_size2'] = df['engine_size2'].apply(lambda x: round(x/1000,1) if x>1000 else round(x,1))\n"
     ]
    }
   ],
   "source": [
    "df['engine_size2'] = df['engine_size2'].apply(lambda x: round(x/1000,1) if x>1000 else round(x,1))"
   ]
  },
  {
   "cell_type": "markdown",
   "metadata": {
    "id": "4SKRsiM2pfVX"
   },
   "source": [
    "Dropping column 'engine_size'"
   ]
  },
  {
   "cell_type": "code",
   "execution_count": 20,
   "metadata": {
    "id": "HmEX3tXeatXZ"
   },
   "outputs": [
    {
     "name": "stderr",
     "output_type": "stream",
     "text": [
      "C:\\Users\\ASUS\\AppData\\Local\\Temp\\ipykernel_21588\\2185731702.py:1: SettingWithCopyWarning: \n",
      "A value is trying to be set on a copy of a slice from a DataFrame\n",
      "\n",
      "See the caveats in the documentation: https://pandas.pydata.org/pandas-docs/stable/user_guide/indexing.html#returning-a-view-versus-a-copy\n",
      "  df.drop(columns=['engine_size'],inplace=True)\n"
     ]
    }
   ],
   "source": [
    "df.drop(columns=['engine_size'],inplace=True)"
   ]
  },
  {
   "cell_type": "markdown",
   "metadata": {
    "id": "OkKeuNxZpheV"
   },
   "source": [
    "Renaming 'engine_size2' to 'engine_size'"
   ]
  },
  {
   "cell_type": "code",
   "execution_count": 21,
   "metadata": {
    "id": "dD290Lzha_kz"
   },
   "outputs": [
    {
     "name": "stderr",
     "output_type": "stream",
     "text": [
      "C:\\Users\\ASUS\\AppData\\Local\\Temp\\ipykernel_21588\\3155629850.py:1: SettingWithCopyWarning: \n",
      "A value is trying to be set on a copy of a slice from a DataFrame\n",
      "\n",
      "See the caveats in the documentation: https://pandas.pydata.org/pandas-docs/stable/user_guide/indexing.html#returning-a-view-versus-a-copy\n",
      "  df.rename(columns = {'engine_size2':'engine_size'}, inplace = True)\n"
     ]
    }
   ],
   "source": [
    "df.rename(columns = {'engine_size2':'engine_size'}, inplace = True)"
   ]
  },
  {
   "cell_type": "markdown",
   "metadata": {
    "id": "zT-ZZ2qppmAv"
   },
   "source": [
    "Dropping all rows with any value NaN"
   ]
  },
  {
   "cell_type": "code",
   "execution_count": 22,
   "metadata": {
    "id": "UCQ3UovUi4_P"
   },
   "outputs": [],
   "source": [
    "# df= df[df['year'].notna()]\n",
    "df= df.dropna(how='any')"
   ]
  },
  {
   "cell_type": "code",
   "execution_count": 23,
   "metadata": {},
   "outputs": [],
   "source": [
    "# pd.concat([df1,df2]).drop_duplicates(keep=False)"
   ]
  },
  {
   "cell_type": "markdown",
   "metadata": {
    "id": "MNh969nyrN7u"
   },
   "source": [
    "Changing datatype of 'year' as int64"
   ]
  },
  {
   "cell_type": "code",
   "execution_count": 24,
   "metadata": {
    "colab": {
     "base_uri": "https://localhost:8080/"
    },
    "id": "DqPZqP0Xpxy_",
    "outputId": "5b2eec50-34de-460c-c890-28d3068089aa"
   },
   "outputs": [],
   "source": [
    "df['year'] = df['year'].astype('int64')"
   ]
  },
  {
   "cell_type": "markdown",
   "metadata": {
    "id": "FEyJqZ6YrV6c"
   },
   "source": [
    "Dropping 'model' and 'reference' columns"
   ]
  },
  {
   "cell_type": "code",
   "execution_count": 25,
   "metadata": {
    "colab": {
     "base_uri": "https://localhost:8080/"
    },
    "id": "-4hxAQiSrIOZ",
    "outputId": "6db95146-6cf6-42aa-ae24-0ebf5dd019e4"
   },
   "outputs": [],
   "source": [
    "df.drop(columns=['model','reference'],inplace=True)"
   ]
  },
  {
   "cell_type": "markdown",
   "metadata": {
    "id": "mAe9xQW_x8yT"
   },
   "source": [
    "Making dummies for 'transmission'"
   ]
  },
  {
   "cell_type": "code",
   "execution_count": 26,
   "metadata": {
    "id": "mfNbGUArpVDy"
   },
   "outputs": [],
   "source": [
    "transmission = pd.get_dummies(df['transmission'])"
   ]
  },
  {
   "cell_type": "code",
   "execution_count": 27,
   "metadata": {
    "id": "9tTG1dcSwR1E"
   },
   "outputs": [],
   "source": [
    "df = df.join(transmission)"
   ]
  },
  {
   "cell_type": "code",
   "execution_count": 28,
   "metadata": {
    "colab": {
     "base_uri": "https://localhost:8080/",
     "height": 424
    },
    "id": "9A6ktnNT2Aa3",
    "outputId": "71074820-fd1d-4794-d9ca-903138c5f050"
   },
   "outputs": [],
   "source": [
    "# df"
   ]
  },
  {
   "cell_type": "markdown",
   "metadata": {
    "id": "5lf2uN4_yG6N"
   },
   "source": [
    "Making dummies for 'fuel_type2'"
   ]
  },
  {
   "cell_type": "code",
   "execution_count": 29,
   "metadata": {
    "id": "PKhIPQ_qwAX0"
   },
   "outputs": [],
   "source": [
    "fuel_type = pd.get_dummies(df['fuel_type'])"
   ]
  },
  {
   "cell_type": "code",
   "execution_count": 30,
   "metadata": {
    "id": "5FBHl0KcxGYm"
   },
   "outputs": [],
   "source": [
    "fuel_type.rename(columns={\"Other\":\"Other Fuel Type\"}, inplace=True)"
   ]
  },
  {
   "cell_type": "code",
   "execution_count": 31,
   "metadata": {
    "id": "V2Q93aczwEVe"
   },
   "outputs": [],
   "source": [
    "df = df.join(fuel_type)"
   ]
  },
  {
   "cell_type": "code",
   "execution_count": 32,
   "metadata": {
    "id": "rTRlwIf3xyGI"
   },
   "outputs": [],
   "source": [
    "df.drop(columns=['transmission','fuel_type'],inplace=True)"
   ]
  },
  {
   "cell_type": "code",
   "execution_count": 33,
   "metadata": {
    "id": "oK-Sm6L30H6W"
   },
   "outputs": [],
   "source": [
    "df['mileage'] = pd.to_numeric(df['mileage'],errors='coerce')\n",
    "df['price'] = pd.to_numeric(df['price'],errors='coerce')"
   ]
  },
  {
   "cell_type": "code",
   "execution_count": 34,
   "metadata": {
    "colab": {
     "base_uri": "https://localhost:8080/"
    },
    "id": "qbRkM6wKzvlq",
    "outputId": "d60a23f7-762b-4950-f1cf-5d0a1e758a8f"
   },
   "outputs": [
    {
     "name": "stdout",
     "output_type": "stream",
     "text": [
      "Number of Rows in Clean Dataset : 3898\n"
     ]
    }
   ],
   "source": [
    "print(f\"Number of Rows in Clean Dataset : {len(df.index)}\")"
   ]
  },
  {
   "cell_type": "markdown",
   "metadata": {
    "id": "Nioo7Nz32Q9X"
   },
   "source": [
    "# EDA"
   ]
  },
  {
   "cell_type": "code",
   "execution_count": 35,
   "metadata": {
    "colab": {
     "base_uri": "https://localhost:8080/",
     "height": 656
    },
    "id": "s-BF39r4zv34",
    "outputId": "4307b3be-f48c-4458-fe25-5d1995849ce4"
   },
   "outputs": [
    {
     "data": {
      "text/html": [
       "<div>\n",
       "<style scoped>\n",
       "    .dataframe tbody tr th:only-of-type {\n",
       "        vertical-align: middle;\n",
       "    }\n",
       "\n",
       "    .dataframe tbody tr th {\n",
       "        vertical-align: top;\n",
       "    }\n",
       "\n",
       "    .dataframe thead th {\n",
       "        text-align: right;\n",
       "    }\n",
       "</style>\n",
       "<table border=\"1\" class=\"dataframe\">\n",
       "  <thead>\n",
       "    <tr style=\"text-align: right;\">\n",
       "      <th></th>\n",
       "      <th>year</th>\n",
       "      <th>price</th>\n",
       "      <th>mileage</th>\n",
       "      <th>engine_size</th>\n",
       "      <th>Automatic</th>\n",
       "      <th>Manual</th>\n",
       "      <th>Other</th>\n",
       "      <th>Semi-Auto</th>\n",
       "      <th>Diesel</th>\n",
       "      <th>Hybrid</th>\n",
       "      <th>Other Fuel Type</th>\n",
       "      <th>Petrol</th>\n",
       "    </tr>\n",
       "  </thead>\n",
       "  <tbody>\n",
       "    <tr>\n",
       "      <th>0</th>\n",
       "      <td>2020</td>\n",
       "      <td>30495</td>\n",
       "      <td>1200.0</td>\n",
       "      <td>2.0</td>\n",
       "      <td>1</td>\n",
       "      <td>0</td>\n",
       "      <td>0</td>\n",
       "      <td>0</td>\n",
       "      <td>1</td>\n",
       "      <td>0</td>\n",
       "      <td>0</td>\n",
       "      <td>0</td>\n",
       "    </tr>\n",
       "    <tr>\n",
       "      <th>1</th>\n",
       "      <td>2020</td>\n",
       "      <td>29989</td>\n",
       "      <td>1000.0</td>\n",
       "      <td>1.5</td>\n",
       "      <td>1</td>\n",
       "      <td>0</td>\n",
       "      <td>0</td>\n",
       "      <td>0</td>\n",
       "      <td>0</td>\n",
       "      <td>0</td>\n",
       "      <td>0</td>\n",
       "      <td>1</td>\n",
       "    </tr>\n",
       "    <tr>\n",
       "      <th>2</th>\n",
       "      <td>2020</td>\n",
       "      <td>37899</td>\n",
       "      <td>500.0</td>\n",
       "      <td>2.0</td>\n",
       "      <td>1</td>\n",
       "      <td>0</td>\n",
       "      <td>0</td>\n",
       "      <td>0</td>\n",
       "      <td>1</td>\n",
       "      <td>0</td>\n",
       "      <td>0</td>\n",
       "      <td>0</td>\n",
       "    </tr>\n",
       "    <tr>\n",
       "      <th>3</th>\n",
       "      <td>2019</td>\n",
       "      <td>30399</td>\n",
       "      <td>5000.0</td>\n",
       "      <td>2.0</td>\n",
       "      <td>1</td>\n",
       "      <td>0</td>\n",
       "      <td>0</td>\n",
       "      <td>0</td>\n",
       "      <td>1</td>\n",
       "      <td>0</td>\n",
       "      <td>0</td>\n",
       "      <td>0</td>\n",
       "    </tr>\n",
       "    <tr>\n",
       "      <th>4</th>\n",
       "      <td>2019</td>\n",
       "      <td>29899</td>\n",
       "      <td>4500.0</td>\n",
       "      <td>2.0</td>\n",
       "      <td>1</td>\n",
       "      <td>0</td>\n",
       "      <td>0</td>\n",
       "      <td>0</td>\n",
       "      <td>1</td>\n",
       "      <td>0</td>\n",
       "      <td>0</td>\n",
       "      <td>0</td>\n",
       "    </tr>\n",
       "  </tbody>\n",
       "</table>\n",
       "</div>"
      ],
      "text/plain": [
       "   year  price  mileage  engine_size  Automatic  Manual  Other  Semi-Auto  \\\n",
       "0  2020  30495   1200.0          2.0          1       0      0          0   \n",
       "1  2020  29989   1000.0          1.5          1       0      0          0   \n",
       "2  2020  37899    500.0          2.0          1       0      0          0   \n",
       "3  2019  30399   5000.0          2.0          1       0      0          0   \n",
       "4  2019  29899   4500.0          2.0          1       0      0          0   \n",
       "\n",
       "   Diesel  Hybrid  Other Fuel Type  Petrol  \n",
       "0       1       0                0       0  \n",
       "1       0       0                0       1  \n",
       "2       1       0                0       0  \n",
       "3       1       0                0       0  \n",
       "4       1       0                0       0  "
      ]
     },
     "execution_count": 35,
     "metadata": {},
     "output_type": "execute_result"
    }
   ],
   "source": [
    "df.head(5)"
   ]
  },
  {
   "cell_type": "markdown",
   "metadata": {},
   "source": [
    "Summary Statistics of the data"
   ]
  },
  {
   "cell_type": "code",
   "execution_count": 36,
   "metadata": {},
   "outputs": [
    {
     "data": {
      "text/html": [
       "<div>\n",
       "<style scoped>\n",
       "    .dataframe tbody tr th:only-of-type {\n",
       "        vertical-align: middle;\n",
       "    }\n",
       "\n",
       "    .dataframe tbody tr th {\n",
       "        vertical-align: top;\n",
       "    }\n",
       "\n",
       "    .dataframe thead th {\n",
       "        text-align: right;\n",
       "    }\n",
       "</style>\n",
       "<table border=\"1\" class=\"dataframe\">\n",
       "  <thead>\n",
       "    <tr style=\"text-align: right;\">\n",
       "      <th></th>\n",
       "      <th>year</th>\n",
       "      <th>price</th>\n",
       "      <th>mileage</th>\n",
       "      <th>engine_size</th>\n",
       "      <th>Automatic</th>\n",
       "      <th>Manual</th>\n",
       "      <th>Other</th>\n",
       "      <th>Semi-Auto</th>\n",
       "      <th>Diesel</th>\n",
       "      <th>Hybrid</th>\n",
       "      <th>Other Fuel Type</th>\n",
       "      <th>Petrol</th>\n",
       "    </tr>\n",
       "  </thead>\n",
       "  <tbody>\n",
       "    <tr>\n",
       "      <th>count</th>\n",
       "      <td>3898.000000</td>\n",
       "      <td>3898.000000</td>\n",
       "      <td>3898.000000</td>\n",
       "      <td>3898.000000</td>\n",
       "      <td>3898.000000</td>\n",
       "      <td>3898.000000</td>\n",
       "      <td>3898.000000</td>\n",
       "      <td>3898.000000</td>\n",
       "      <td>3898.000000</td>\n",
       "      <td>3898.000000</td>\n",
       "      <td>3898.000000</td>\n",
       "      <td>3898.000000</td>\n",
       "    </tr>\n",
       "    <tr>\n",
       "      <th>mean</th>\n",
       "      <td>2017.341714</td>\n",
       "      <td>23679.720369</td>\n",
       "      <td>22373.116727</td>\n",
       "      <td>2.036762</td>\n",
       "      <td>0.417394</td>\n",
       "      <td>0.051052</td>\n",
       "      <td>0.000257</td>\n",
       "      <td>0.531298</td>\n",
       "      <td>0.600051</td>\n",
       "      <td>0.038738</td>\n",
       "      <td>0.001539</td>\n",
       "      <td>0.359672</td>\n",
       "    </tr>\n",
       "    <tr>\n",
       "      <th>std</th>\n",
       "      <td>2.204856</td>\n",
       "      <td>8954.941562</td>\n",
       "      <td>22589.323398</td>\n",
       "      <td>0.487930</td>\n",
       "      <td>0.493192</td>\n",
       "      <td>0.220132</td>\n",
       "      <td>0.016017</td>\n",
       "      <td>0.499083</td>\n",
       "      <td>0.489950</td>\n",
       "      <td>0.192994</td>\n",
       "      <td>0.039208</td>\n",
       "      <td>0.479966</td>\n",
       "    </tr>\n",
       "    <tr>\n",
       "      <th>min</th>\n",
       "      <td>1991.000000</td>\n",
       "      <td>1290.000000</td>\n",
       "      <td>1.000000</td>\n",
       "      <td>0.000000</td>\n",
       "      <td>0.000000</td>\n",
       "      <td>0.000000</td>\n",
       "      <td>0.000000</td>\n",
       "      <td>0.000000</td>\n",
       "      <td>0.000000</td>\n",
       "      <td>0.000000</td>\n",
       "      <td>0.000000</td>\n",
       "      <td>0.000000</td>\n",
       "    </tr>\n",
       "    <tr>\n",
       "      <th>25%</th>\n",
       "      <td>2016.000000</td>\n",
       "      <td>17691.250000</td>\n",
       "      <td>6000.000000</td>\n",
       "      <td>2.000000</td>\n",
       "      <td>0.000000</td>\n",
       "      <td>0.000000</td>\n",
       "      <td>0.000000</td>\n",
       "      <td>0.000000</td>\n",
       "      <td>0.000000</td>\n",
       "      <td>0.000000</td>\n",
       "      <td>0.000000</td>\n",
       "      <td>0.000000</td>\n",
       "    </tr>\n",
       "    <tr>\n",
       "      <th>50%</th>\n",
       "      <td>2018.000000</td>\n",
       "      <td>22980.000000</td>\n",
       "      <td>14638.000000</td>\n",
       "      <td>2.000000</td>\n",
       "      <td>0.000000</td>\n",
       "      <td>0.000000</td>\n",
       "      <td>0.000000</td>\n",
       "      <td>1.000000</td>\n",
       "      <td>1.000000</td>\n",
       "      <td>0.000000</td>\n",
       "      <td>0.000000</td>\n",
       "      <td>0.000000</td>\n",
       "    </tr>\n",
       "    <tr>\n",
       "      <th>75%</th>\n",
       "      <td>2019.000000</td>\n",
       "      <td>28900.000000</td>\n",
       "      <td>32440.000000</td>\n",
       "      <td>2.100000</td>\n",
       "      <td>1.000000</td>\n",
       "      <td>0.000000</td>\n",
       "      <td>0.000000</td>\n",
       "      <td>1.000000</td>\n",
       "      <td>1.000000</td>\n",
       "      <td>0.000000</td>\n",
       "      <td>0.000000</td>\n",
       "      <td>1.000000</td>\n",
       "    </tr>\n",
       "    <tr>\n",
       "      <th>max</th>\n",
       "      <td>2020.000000</td>\n",
       "      <td>88995.000000</td>\n",
       "      <td>173000.000000</td>\n",
       "      <td>6.200000</td>\n",
       "      <td>1.000000</td>\n",
       "      <td>1.000000</td>\n",
       "      <td>1.000000</td>\n",
       "      <td>1.000000</td>\n",
       "      <td>1.000000</td>\n",
       "      <td>1.000000</td>\n",
       "      <td>1.000000</td>\n",
       "      <td>1.000000</td>\n",
       "    </tr>\n",
       "  </tbody>\n",
       "</table>\n",
       "</div>"
      ],
      "text/plain": [
       "              year         price        mileage  engine_size    Automatic  \\\n",
       "count  3898.000000   3898.000000    3898.000000  3898.000000  3898.000000   \n",
       "mean   2017.341714  23679.720369   22373.116727     2.036762     0.417394   \n",
       "std       2.204856   8954.941562   22589.323398     0.487930     0.493192   \n",
       "min    1991.000000   1290.000000       1.000000     0.000000     0.000000   \n",
       "25%    2016.000000  17691.250000    6000.000000     2.000000     0.000000   \n",
       "50%    2018.000000  22980.000000   14638.000000     2.000000     0.000000   \n",
       "75%    2019.000000  28900.000000   32440.000000     2.100000     1.000000   \n",
       "max    2020.000000  88995.000000  173000.000000     6.200000     1.000000   \n",
       "\n",
       "            Manual        Other    Semi-Auto       Diesel       Hybrid  \\\n",
       "count  3898.000000  3898.000000  3898.000000  3898.000000  3898.000000   \n",
       "mean      0.051052     0.000257     0.531298     0.600051     0.038738   \n",
       "std       0.220132     0.016017     0.499083     0.489950     0.192994   \n",
       "min       0.000000     0.000000     0.000000     0.000000     0.000000   \n",
       "25%       0.000000     0.000000     0.000000     0.000000     0.000000   \n",
       "50%       0.000000     0.000000     1.000000     1.000000     0.000000   \n",
       "75%       0.000000     0.000000     1.000000     1.000000     0.000000   \n",
       "max       1.000000     1.000000     1.000000     1.000000     1.000000   \n",
       "\n",
       "       Other Fuel Type       Petrol  \n",
       "count      3898.000000  3898.000000  \n",
       "mean          0.001539     0.359672  \n",
       "std           0.039208     0.479966  \n",
       "min           0.000000     0.000000  \n",
       "25%           0.000000     0.000000  \n",
       "50%           0.000000     0.000000  \n",
       "75%           0.000000     1.000000  \n",
       "max           1.000000     1.000000  "
      ]
     },
     "execution_count": 36,
     "metadata": {},
     "output_type": "execute_result"
    }
   ],
   "source": [
    "df.describe()"
   ]
  },
  {
   "cell_type": "code",
   "execution_count": 37,
   "metadata": {},
   "outputs": [
    {
     "data": {
      "image/png": "[encoded data removed]",
      "text/plain": [
       "<Figure size 432x288 with 1 Axes>"
      ]
     },
     "metadata": {
      "needs_background": "light"
     },
     "output_type": "display_data"
    }
   ],
   "source": [
    "# relationship between year and price\n",
    "plt.scatter(df['year'], df['price'])\n",
    "plt.title(\"Price vs Year of the car\",color='red')\n",
    "plt.xlabel('Year')\n",
    "plt.ylabel('Price')\n",
    "plt.show()"
   ]
  },
  {
   "cell_type": "markdown",
   "metadata": {},
   "source": [
    "Relationship between year and mean price"
   ]
  },
  {
   "cell_type": "code",
   "execution_count": 38,
   "metadata": {},
   "outputs": [
    {
     "data": {
      "text/plain": [
       "<AxesSubplot:xlabel='year'>"
      ]
     },
     "execution_count": 38,
     "metadata": {},
     "output_type": "execute_result"
    },
    {
     "data": {
      "image/png": "[encoded data removed]",
      "text/plain": [
       "<Figure size 432x288 with 1 Axes>"
      ]
     },
     "metadata": {
      "needs_background": "light"
     },
     "output_type": "display_data"
    }
   ],
   "source": [
    "df.groupby('year')['price'].mean().plot()"
   ]
  },
  {
   "cell_type": "code",
   "execution_count": 39,
   "metadata": {},
   "outputs": [
    {
     "data": {
      "image/png": "[encoded data removed]",
      "text/plain": [
       "<Figure size 432x288 with 1 Axes>"
      ]
     },
     "metadata": {
      "needs_background": "light"
     },
     "output_type": "display_data"
    }
   ],
   "source": [
    "# relationship between engine_size and price\n",
    "plt.scatter(df['engine_size'], df['price'])\n",
    "plt.title(\"Engine Size vs Year of the car\")\n",
    "plt.xlabel('Engine Size')\n",
    "plt.ylabel('Price')\n",
    "plt.show()"
   ]
  },
  {
   "cell_type": "markdown",
   "metadata": {},
   "source": [
    "Relationship between engine_size and mean price"
   ]
  },
  {
   "cell_type": "code",
   "execution_count": 40,
   "metadata": {},
   "outputs": [
    {
     "data": {
      "text/plain": [
       "<AxesSubplot:xlabel='engine_size'>"
      ]
     },
     "execution_count": 40,
     "metadata": {},
     "output_type": "execute_result"
    },
    {
     "data": {
      "image/png": "[encoded data removed]",
      "text/plain": [
       "<Figure size 432x288 with 1 Axes>"
      ]
     },
     "metadata": {
      "needs_background": "light"
     },
     "output_type": "display_data"
    }
   ],
   "source": [
    "df.groupby('engine_size')['price'].mean().plot()\n",
    "# df.groupby('engine_size')['price'].mean().plot()"
   ]
  },
  {
   "cell_type": "markdown",
   "metadata": {},
   "source": [
    "Value Counts by Year"
   ]
  },
  {
   "cell_type": "code",
   "execution_count": 41,
   "metadata": {},
   "outputs": [
    {
     "data": {
      "text/plain": [
       "2019    1590\n",
       "2017     665\n",
       "2016     545\n",
       "2018     362\n",
       "2015     321\n",
       "2014     136\n",
       "2020     126\n",
       "2013      64\n",
       "2012      26\n",
       "2011      13\n",
       "2010      10\n",
       "2008       8\n",
       "2007       7\n",
       "2009       7\n",
       "2005       4\n",
       "2002       4\n",
       "2006       3\n",
       "2004       3\n",
       "1991       1\n",
       "1995       1\n",
       "2003       1\n",
       "1998       1\n",
       "Name: year, dtype: int64"
      ]
     },
     "execution_count": 41,
     "metadata": {},
     "output_type": "execute_result"
    }
   ],
   "source": [
    "df.year.value_counts(sort=True)"
   ]
  },
  {
   "cell_type": "markdown",
   "metadata": {},
   "source": [
    "Removing Outliers by Empirical method of Statistics on mileage "
   ]
  },
  {
   "cell_type": "code",
   "execution_count": 42,
   "metadata": {},
   "outputs": [],
   "source": [
    "mileage_mean = df['mileage'].mean()\n",
    "mileage_stdev = df['mileage'].std()\n",
    "# By empirical rule, anything with zscore more 3 or less than -3, is an outlier\n",
    "upper_bound_mileage = mileage_mean + 3*mileage_stdev\n",
    "lower_bound_mileage = mileage_mean - 3*mileage_stdev"
   ]
  },
  {
   "cell_type": "code",
   "execution_count": 43,
   "metadata": {},
   "outputs": [],
   "source": [
    "df.drop(df[df.mileage>upper_bound_mileage].index, inplace=True)\n",
    "df.drop(df[df.mileage<lower_bound_mileage].index, inplace=True)"
   ]
  },
  {
   "cell_type": "markdown",
   "metadata": {},
   "source": [
    "Dropping records with price value outliers, i.e. where price "
   ]
  },
  {
   "cell_type": "code",
   "execution_count": 44,
   "metadata": {},
   "outputs": [],
   "source": [
    "df.drop(df.loc[df[\"price\"]<5000].index, inplace=True)\n",
    "df.drop(df.loc[df[\"price\"]>50000].index, inplace=True)"
   ]
  },
  {
   "cell_type": "code",
   "execution_count": 45,
   "metadata": {},
   "outputs": [
    {
     "data": {
      "image/png": "[encoded data removed]",
      "text/plain": [
       "<Figure size 1800x864 with 2 Axes>"
      ]
     },
     "metadata": {},
     "output_type": "display_data"
    }
   ],
   "source": [
    "import seaborn as sns\n",
    "%matplotlib inline\n",
    "\n",
    "cm = np.corrcoef(df.values.T)\n",
    "sns.set(font_scale=1.5)\n",
    "sns.set(rc = {'figure.figsize':(25,12)})\n",
    "hm = sns.heatmap(cm, \n",
    "                 cbar=True, \n",
    "                 annot = True, \n",
    "                 square=True, \n",
    "                 fmt='.2f', \n",
    "                 annot_kws={\"size\":15}, \n",
    "                 yticklabels=df.columns,\n",
    "                 xticklabels=df.columns)"
   ]
  },
  {
   "cell_type": "markdown",
   "metadata": {},
   "source": [
    "## Split the dataset into training and test sets\n",
    "We will split 75:25 and using randomstate=42 to make a repeatable result. \n"
   ]
  },
  {
   "cell_type": "code",
   "execution_count": 46,
   "metadata": {},
   "outputs": [],
   "source": [
    "response = df['price']\n",
    "features = df[['year', 'mileage', 'engine_size', 'Manual', 'Semi-Auto','Diesel','Petrol']]\n",
    "# features = df.drop('price', axis=1)"
   ]
  },
  {
   "cell_type": "code",
   "execution_count": 47,
   "metadata": {},
   "outputs": [
    {
     "name": "stdout",
     "output_type": "stream",
     "text": [
      "Training and testing split was successful\n"
     ]
    }
   ],
   "source": [
    "\n",
    "X_train, X_test, Y_train, Y_test = train_test_split(features, \n",
    "                                                    response, \n",
    "                                                    test_size=0.25,  \n",
    "                                                    random_state=42)\n",
    "\n",
    "print(\"Training and testing split was successful\")"
   ]
  },
  {
   "cell_type": "markdown",
   "metadata": {},
   "source": [
    "# Training and Testing"
   ]
  },
  {
   "cell_type": "code",
   "execution_count": 48,
   "metadata": {},
   "outputs": [
    {
     "name": "stdout",
     "output_type": "stream",
     "text": [
      "LinearRegression()\n"
     ]
    }
   ],
   "source": [
    "\n",
    "# build the model\n",
    "# Step 1 import the libraries\n",
    "\n",
    "# Step 2 call the linear regression model\n",
    "model = LinearRegression()\n",
    "# Step 3 create the model\n",
    "model.fit(X_train, Y_train)\n",
    "print(model)"
   ]
  },
  {
   "cell_type": "code",
   "execution_count": 49,
   "metadata": {},
   "outputs": [],
   "source": [
    "# get the predictions for the test dataset\n",
    "predictions = model.predict(X_test)"
   ]
  },
  {
   "cell_type": "markdown",
   "metadata": {},
   "source": [
    "## Evaluate the model performance"
   ]
  },
  {
   "cell_type": "code",
   "execution_count": 50,
   "metadata": {},
   "outputs": [
    {
     "name": "stdout",
     "output_type": "stream",
     "text": [
      "R^2 in training dataset:  0.776\n",
      "R^2 in testing dataset:  0.8\n"
     ]
    }
   ],
   "source": [
    "# R-squared\n",
    "print(\"R^2 in training dataset: \", round(model.score(X_train, Y_train),3))\n",
    "print(\"R^2 in testing dataset: \", round(model.score(X_test, Y_test),3))"
   ]
  },
  {
   "cell_type": "code",
   "execution_count": 51,
   "metadata": {},
   "outputs": [
    {
     "name": "stdout",
     "output_type": "stream",
     "text": [
      "RMSE in Test set:  3497.1230796887876\n"
     ]
    }
   ],
   "source": [
    "# RMSE\n",
    "\n",
    "# Now finding the mean squared error\n",
    "mse = mean_squared_error(Y_test, predictions)\n",
    "\n",
    "print('RMSE in Test set: ',mse**0.5)"
   ]
  },
  {
   "cell_type": "code",
   "execution_count": 52,
   "metadata": {},
   "outputs": [
    {
     "data": {
      "image/png": "[encoded data removed]",
      "text/plain": [
       "<Figure size 1800x864 with 1 Axes>"
      ]
     },
     "metadata": {},
     "output_type": "display_data"
    }
   ],
   "source": [
    "# plot the prediction vs actual\n",
    "actual_values = Y_test\n",
    "plt.scatter(predictions, actual_values, alpha=0.9, color='b')\n",
    "plt.xlabel(\"predicted price\")\n",
    "plt.ylabel(\"Actual price\")\n",
    "plt.title(\"Linear regression model (Predicted vs Actual)\")\n",
    "plt.show()"
   ]
  },
  {
   "cell_type": "code",
   "execution_count": 53,
   "metadata": {},
   "outputs": [
    {
     "name": "stdout",
     "output_type": "stream",
     "text": [
      "      Features         Coeffficients\n",
      "0         year      2099.75105046652\n",
      "1      mileage  -0.14768999628491145\n",
      "2  engine_size     6659.426903668011\n",
      "3       Manual    -3082.186874223108\n",
      "4    Semi-Auto    -331.9716147598889\n",
      "5       Diesel     -918.432349090594\n",
      "6       Petrol     373.0229995798844\n"
     ]
    }
   ],
   "source": [
    "# the coefficient list\n",
    "feat = list(X_train.columns)\n",
    "coef = model.coef_.transpose()\n",
    "\n",
    "coef_table = np.vstack((feat, coef)).T\n",
    "new_df = pd.DataFrame(coef_table, columns=[\"Features\", \"Coeffficients\"])\n",
    "print(new_df)"
   ]
  },
  {
   "cell_type": "code",
   "execution_count": null,
   "metadata": {},
   "outputs": [],
   "source": []
  }
 ],
 "metadata": {
  "colab": {
   "collapsed_sections": [],
   "name": "colab test.ipynb",
   "provenance": []
  },
  "kernelspec": {
   "display_name": "Python 3 (ipykernel)",
   "language": "python",
   "name": "python3"
  },
  "language_info": {
   "codemirror_mode": {
    "name": "ipython",
    "version": 3
   },
   "file_extension": ".py",
   "mimetype": "text/x-python",
   "name": "python",
   "nbconvert_exporter": "python",
   "pygments_lexer": "ipython3",
   "version": "3.9.12"
  },
  "vscode": {
   "interpreter": {
    "hash": "a90aeebcf29d64a654773811cc170cb25061cb2498f10ac689db374c7bf325de"
   }
  }
 },
 "nbformat": 4,
 "nbformat_minor": 1
}
