{
 "cells": [
  {
   "cell_type": "code",
   "execution_count": null,
   "id": "313cd627",
   "metadata": {},
   "outputs": [],
   "source": [
    "#!pip install sklearn\n",
    "import pandas as pd\n",
    "import numpy as np\n",
    "import matplotlib.pyplot as plt\n",
    "import seaborn as sns\n",
    "from sklearn.linear_model import LinearRegression\n",
    "from sklearn.model_selection import train_test_split\n",
    "from sklearn.metrics import mean_squared_error\n",
    "from sklearn.linear_model import Ridge, Lasso\n",
    "from sklearn.preprocessing import StandardScaler, MinMaxScaler, RobustScaler\n",
    "\n",
    "%matplotlib inline"
   ]
  },
  {
   "cell_type": "code",
   "execution_count": null,
   "id": "8b1a6ba1",
   "metadata": {},
   "outputs": [],
   "source": [
    "df = pd.read_csv('unclean_data.csv')"
   ]
  },
  {
   "cell_type": "code",
   "execution_count": null,
   "id": "199f2121",
   "metadata": {},
   "outputs": [],
   "source": [
    "df.head()"
   ]
  },
  {
   "cell_type": "code",
   "execution_count": null,
   "id": "62f54e07",
   "metadata": {},
   "outputs": [],
   "source": [
    "df = df.dropna(how=\"all\")"
   ]
  },
  {
   "cell_type": "code",
   "execution_count": null,
   "id": "87738950",
   "metadata": {},
   "outputs": [],
   "source": [
    "df=df.reset_index(drop=True)"
   ]
  },
  {
   "cell_type": "code",
   "execution_count": null,
   "id": "c7f3078f",
   "metadata": {},
   "outputs": [],
   "source": [
    "df"
   ]
  },
  {
   "cell_type": "code",
   "execution_count": null,
   "id": "917193f0",
   "metadata": {},
   "outputs": [],
   "source": [
    "df['price']=df['price'].str.replace(',','').str.replace('£','')\n",
    "df['price']=pd.to_numeric(df['price'],errors='coerce')"
   ]
  },
  {
   "cell_type": "code",
   "execution_count": null,
   "id": "3b3218b2",
   "metadata": {},
   "outputs": [],
   "source": [
    "df.head()"
   ]
  },
  {
   "cell_type": "code",
   "execution_count": null,
   "id": "2547fa85",
   "metadata": {},
   "outputs": [],
   "source": [
    "df.rename(columns={'fuel type':'fuel_type', 'fuel type2':'fuel_type2',\n",
    "                   'engine size':'engine_size', 'engine size2':'engine_size2'}, inplace=True)\n",
    "df.head()"
   ]
  },
  {
   "cell_type": "code",
   "execution_count": null,
   "id": "236c0ec7",
   "metadata": {},
   "outputs": [],
   "source": [
    "df['fuel_type2']=df.fuel_type2.fillna(df.fuel_type)\n",
    "df.head()"
   ]
  },
  {
   "cell_type": "code",
   "execution_count": null,
   "id": "e4e7f73a",
   "metadata": {},
   "outputs": [],
   "source": [
    "df=df.drop(columns=['fuel_type'])\n",
    "df.head()"
   ]
  },
  {
   "cell_type": "code",
   "execution_count": null,
   "id": "a1f8aec9",
   "metadata": {},
   "outputs": [],
   "source": [
    "df.rename(columns={'fuel_type2':'fuel_type'},inplace=True)\n",
    "df.head()"
   ]
  },
  {
   "cell_type": "code",
   "execution_count": null,
   "id": "100c1769",
   "metadata": {},
   "outputs": [],
   "source": [
    "df['mileage']=df.mileage.fillna(df.mileage2)\n",
    "df.head()"
   ]
  },
  {
   "cell_type": "code",
   "execution_count": null,
   "id": "716c9a1f",
   "metadata": {},
   "outputs": [],
   "source": [
    "df['mileage']=df['mileage'].astype(str)"
   ]
  },
  {
   "cell_type": "code",
   "execution_count": null,
   "id": "b13b3aed",
   "metadata": {},
   "outputs": [],
   "source": [
    "df['mileage']=df['mileage'].str.replace(',','')\n",
    "df.head()"
   ]
  },
  {
   "cell_type": "code",
   "execution_count": null,
   "id": "27a4cd1b",
   "metadata": {},
   "outputs": [],
   "source": [
    "df['mileage']=pd.to_numeric(df['mileage'],errors='coerce')\n",
    "df.head()"
   ]
  },
  {
   "cell_type": "code",
   "execution_count": null,
   "id": "c3a45267",
   "metadata": {},
   "outputs": [],
   "source": [
    "df=df.drop(columns=['mileage2'])\n",
    "df"
   ]
  },
  {
   "cell_type": "code",
   "execution_count": null,
   "id": "cde61d5b",
   "metadata": {},
   "outputs": [],
   "source": [
    "df['engine_size2']=df.engine_size2.fillna(df.engine_size)\n",
    "df.head()"
   ]
  },
  {
   "cell_type": "code",
   "execution_count": null,
   "id": "8589ba9a",
   "metadata": {},
   "outputs": [],
   "source": [
    "df['engine_size2']=pd.to_numeric(df['engine_size2'],errors='coerce')\n",
    "df.head()"
   ]
  },
  {
   "cell_type": "code",
   "execution_count": null,
   "id": "8686b1a4",
   "metadata": {},
   "outputs": [],
   "source": [
    "df['engine_size2']=df['engine_size2'].apply(lambda x:round(x/1000,1) if x>1000 else round(x,1))\n",
    "df.head()"
   ]
  },
  {
   "cell_type": "code",
   "execution_count": null,
   "id": "a73a424e",
   "metadata": {},
   "outputs": [],
   "source": [
    "df=df.drop(columns=['engine_size'])\n",
    "df.rename(columns={'engine_size2':'engine_size'}, inplace=True)\n",
    "df"
   ]
  },
  {
   "cell_type": "code",
   "execution_count": null,
   "id": "709649e5",
   "metadata": {},
   "outputs": [],
   "source": [
    "df.describe()"
   ]
  },
  {
   "cell_type": "code",
   "execution_count": null,
   "id": "158a1a71",
   "metadata": {},
   "outputs": [],
   "source": [
    "# df[df['engine_size'].isna()]"
   ]
  },
  {
   "cell_type": "code",
   "execution_count": null,
   "id": "fa279052",
   "metadata": {},
   "outputs": [],
   "source": [
    "df=df.dropna(how='any')\n",
    "df=df.reset_index(drop=True)\n",
    "df[df['engine_size'].isna()]"
   ]
  },
  {
   "cell_type": "code",
   "execution_count": null,
   "id": "f533b226",
   "metadata": {},
   "outputs": [],
   "source": [
    "df['year']=df['year'].astype('int64')\n",
    "df.head()"
   ]
  },
  {
   "cell_type": "code",
   "execution_count": null,
   "id": "c9148e46",
   "metadata": {},
   "outputs": [],
   "source": [
    "df=df.drop(columns=['model','reference'])\n",
    "df.head()"
   ]
  },
  {
   "cell_type": "code",
   "execution_count": null,
   "id": "42e1de67",
   "metadata": {},
   "outputs": [],
   "source": [
    "dumTransmission=pd.get_dummies(df['transmission'])\n",
    "dumTransmission"
   ]
  },
  {
   "cell_type": "code",
   "execution_count": null,
   "id": "875cb364",
   "metadata": {},
   "outputs": [],
   "source": [
    "df=df.join(dumTransmission)"
   ]
  },
  {
   "cell_type": "code",
   "execution_count": null,
   "id": "81ae4a16",
   "metadata": {},
   "outputs": [],
   "source": [
    "df"
   ]
  },
  {
   "cell_type": "code",
   "execution_count": null,
   "id": "c635bf4c",
   "metadata": {},
   "outputs": [],
   "source": [
    "dumFueltype=pd.get_dummies(df['fuel_type'])\n",
    "dumFueltype"
   ]
  },
  {
   "cell_type": "code",
   "execution_count": null,
   "id": "0106a423",
   "metadata": {},
   "outputs": [],
   "source": [
    "dumFueltype.rename(columns={'Other':'OtherFuelType'}, inplace=True)"
   ]
  },
  {
   "cell_type": "code",
   "execution_count": null,
   "id": "3096c9e8",
   "metadata": {},
   "outputs": [],
   "source": [
    "df=df.join(dumFueltype)"
   ]
  },
  {
   "cell_type": "code",
   "execution_count": null,
   "id": "cffd5b9b",
   "metadata": {},
   "outputs": [],
   "source": [
    "df"
   ]
  },
  {
   "cell_type": "code",
   "execution_count": null,
   "id": "80da62d3",
   "metadata": {},
   "outputs": [],
   "source": [
    "df.drop(columns=['transmission','fuel_type'],inplace=True)\n",
    "df.head()"
   ]
  },
  {
   "cell_type": "code",
   "execution_count": null,
   "id": "4fa2bbf3",
   "metadata": {},
   "outputs": [],
   "source": [
    "df.to_csv('my_cleaned_data.csv')"
   ]
  },
  {
   "cell_type": "code",
   "execution_count": null,
   "id": "1d556695",
   "metadata": {},
   "outputs": [],
   "source": []
  },
  {
   "cell_type": "markdown",
   "id": "c0b0ce32",
   "metadata": {},
   "source": [
    "# Start EDA Below"
   ]
  },
  {
   "cell_type": "code",
   "execution_count": null,
   "id": "dda63527",
   "metadata": {},
   "outputs": [],
   "source": []
  },
  {
   "cell_type": "markdown",
   "id": "7613ab34",
   "metadata": {},
   "source": [
    "# Starting feature observation and analysis"
   ]
  },
  {
   "cell_type": "code",
   "execution_count": null,
   "id": "2f2aff33",
   "metadata": {},
   "outputs": [],
   "source": [
    "df.describe()"
   ]
  },
  {
   "cell_type": "code",
   "execution_count": null,
   "id": "b14eb14f",
   "metadata": {},
   "outputs": [],
   "source": [
    "# df.corr()"
   ]
  },
  {
   "cell_type": "code",
   "execution_count": null,
   "id": "5f14b680",
   "metadata": {},
   "outputs": [],
   "source": [
    "mileage_mean = df['mileage'].mean()\n",
    "mileage_stdev = df['mileage'].std()\n",
    "# By empirical rule, anything with zscore more 3 or less than -3, is an outlier\n",
    "upper_bound = mileage_mean + 3*mileage_stdev\n",
    "lower_bound = mileage_mean - 3*mileage_stdev"
   ]
  },
  {
   "cell_type": "code",
   "execution_count": null,
   "id": "6b975bdb",
   "metadata": {},
   "outputs": [],
   "source": [
    "# df.drop(df.loc[df[\"price\"]>(df['price'].mean()+3*df['price'].std())].index, inplace=True)\n",
    "# df.drop(df.loc[df[\"price\"]<(df['price'].mean()-3*df['price'].std())].index, inplace=True)\n",
    "df.drop(df.loc[df[\"mileage\"]>( df['mileage'].mean() + 3* df['mileage'].std().index, inplace=True)\n",
    "df.drop(df.loc[df[\"mileage\"]<(mileage_mean - 3*mileage_stdev.index, inplace=True)\n",
    "df.drop(df.loc[df[\"price\"]<5000].index, inplace=True)\n",
    "df.drop(df.loc[df[\"price\"]>50000].index, inplace=True)"
   ]
  },
  {
   "cell_type": "code",
   "execution_count": null,
   "id": "3b4d3c65",
   "metadata": {},
   "outputs": [],
   "source": [
    "# sns.pairplot(df, height=2.5)\n",
    "# plt.tight_layout()"
   ]
  },
  {
   "cell_type": "code",
   "execution_count": null,
   "id": "233aa88d",
   "metadata": {},
   "outputs": [],
   "source": [
    "import seaborn as sns\n",
    "%matplotlib inline\n",
    "\n",
    "cm = np.corrcoef(df.values.T)\n",
    "sns.set(font_scale=1.5)\n",
    "sns.set(rc = {'figure.figsize':(25,12)})\n",
    "hm = sns.heatmap(cm, \n",
    "                 cbar=True, \n",
    "                 annot = True, \n",
    "                 square=True, \n",
    "                 fmt='.2f', \n",
    "                 annot_kws={\"size\":15}, \n",
    "                 yticklabels=df.columns,\n",
    "                 xticklabels=df.columns)"
   ]
  },
  {
   "cell_type": "markdown",
   "id": "8026272b",
   "metadata": {},
   "source": [
    "## Split the dataset into training and test sets\n",
    "We will split 75:25 and using randomstate=42 to make a repeatable result. \n"
   ]
  },
  {
   "cell_type": "code",
   "execution_count": null,
   "id": "50625882",
   "metadata": {},
   "outputs": [],
   "source": [
    "response = df['price']\n",
    "features = df[['year', 'mileage', 'engine_size', 'Manual', 'Semi-Auto','Diesel','Petrol']]\n",
    "# features = df.drop('price', axis=1)"
   ]
  },
  {
   "cell_type": "code",
   "execution_count": null,
   "id": "af777919",
   "metadata": {},
   "outputs": [],
   "source": [
    "\n",
    "X_train, X_test, Y_train, Y_test = train_test_split(features, \n",
    "                                                    response, \n",
    "                                                    test_size=0.25,  \n",
    "                                                    random_state=42)\n",
    "\n",
    "print(\"Training and testing split was successful\")"
   ]
  },
  {
   "cell_type": "markdown",
   "id": "61dd6111",
   "metadata": {},
   "source": [
    "# Training and Testing"
   ]
  },
  {
   "cell_type": "code",
   "execution_count": null,
   "id": "1eb50e86",
   "metadata": {},
   "outputs": [],
   "source": [
    "\n",
    "# build the model\n",
    "# Step 1 import the libraries\n",
    "\n",
    "# Step 2 call the linear regression model\n",
    "model = LinearRegression()\n",
    "# Step 3 create the model\n",
    "model.fit(X_train, Y_train)\n",
    "print(model)"
   ]
  },
  {
   "cell_type": "code",
   "execution_count": null,
   "id": "3c8b8936",
   "metadata": {},
   "outputs": [],
   "source": [
    "# get the predictions for the test dataset\n",
    "predictions = model.predict(X_test)"
   ]
  },
  {
   "cell_type": "markdown",
   "id": "8248123a",
   "metadata": {},
   "source": [
    "## Evaluate the model performance"
   ]
  },
  {
   "cell_type": "code",
   "execution_count": null,
   "id": "36f49a64",
   "metadata": {},
   "outputs": [],
   "source": [
    "# R-squared\n",
    "print(\"R^2 in training dataset: \", round(model.score(X_train, Y_train),3))\n",
    "print(\"R^2 in testing dataset: \", round(model.score(X_test, Y_test),3))"
   ]
  },
  {
   "cell_type": "code",
   "execution_count": null,
   "id": "9c01411e",
   "metadata": {},
   "outputs": [],
   "source": [
    "# RMSE\n",
    "\n",
    "# Now finding the mean squared error\n",
    "mse = mean_squared_error(Y_test, predictions)\n",
    "\n",
    "print('RMSE in Test set: ',mse**0.5)"
   ]
  },
  {
   "cell_type": "code",
   "execution_count": null,
   "id": "d71b3680",
   "metadata": {},
   "outputs": [],
   "source": [
    "# plot the prediction vs actual\n",
    "actual_values = Y_test\n",
    "plt.scatter(predictions, actual_values, alpha=0.9, color='b')\n",
    "plt.xlabel(\"predicted price\")\n",
    "plt.ylabel(\"Actual price\")\n",
    "plt.title(\"Linear regression model (Predicted vs Actual)\")\n",
    "plt.show()"
   ]
  },
  {
   "cell_type": "code",
   "execution_count": null,
   "id": "ec36dc88",
   "metadata": {},
   "outputs": [],
   "source": [
    "# the coefficient list\n",
    "feat = list(X_train.columns)\n",
    "coef = model.coef_.transpose()\n",
    "\n",
    "coef_table = np.vstack((feat, coef)).T\n",
    "new_df = pd.DataFrame(coef_table, columns=[\"Features\", \"Coeffficients\"])\n",
    "print(new_df)"
   ]
  },
  {
   "cell_type": "code",
   "execution_count": null,
   "id": "138b7a9f",
   "metadata": {},
   "outputs": [],
   "source": []
  }
 ],
 "metadata": {
  "kernelspec": {
   "display_name": "Python 3 (ipykernel)",
   "language": "python",
   "name": "python3"
  },
  "language_info": {
   "codemirror_mode": {
    "name": "ipython",
    "version": 3
   },
   "file_extension": ".py",
   "mimetype": "text/x-python",
   "name": "python",
   "nbconvert_exporter": "python",
   "pygments_lexer": "ipython3",
   "version": "3.9.12"
  }
 },
 "nbformat": 4,
 "nbformat_minor": 5
}
